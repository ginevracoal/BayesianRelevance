{
 "cells": [
  {
   "cell_type": "markdown",
   "metadata": {},
   "source": [
    "# Resilience of Bayesian Layer-Wise Explanations under Adversarial Attacks"
   ]
  },
  {
   "cell_type": "code",
   "execution_count": 4,
   "metadata": {},
   "outputs": [],
   "source": [
    "import os\n",
    "cwd = os.getcwd()"
   ]
  },
  {
   "cell_type": "code",
   "execution_count": 7,
   "metadata": {},
   "outputs": [],
   "source": [
    "model = {\"dataset\":\"mnist\", \"hidden_size\":512, \"activation\":\"leaky\", \"architecture\":\"conv\",\n",
    "           \"inference\":\"svi\", \"epochs\":5, \"lr\":0.01, \"hmc_samples\":None, \"warmup\":None}\n",
    "n_inputs = 100\n"
   ]
  },
  {
   "cell_type": "markdown",
   "metadata": {},
   "source": [
    "## Train models"
   ]
  },
  {
   "cell_type": "code",
   "execution_count": null,
   "metadata": {},
   "outputs": [],
   "source": [
    "model = baseNN_settings[\"model_\"+str(args.model_idx)]\n",
    "\n",
    "train_loader, test_loader, inp_shape, out_size = data_loaders(dataset_name=model[\"dataset\"], n_inputs=n_inputs,\n",
    "                                                              batch_size=128, shuffle=True)"
   ]
  }
 ],
 "metadata": {
  "kernelspec": {
   "display_name": "Python 3",
   "language": "python",
   "name": "python3"
  },
  "language_info": {
   "codemirror_mode": {
    "name": "ipython",
    "version": 3
   },
   "file_extension": ".py",
   "mimetype": "text/x-python",
   "name": "python",
   "nbconvert_exporter": "python",
   "pygments_lexer": "ipython3",
   "version": "3.6.9"
  }
 },
 "nbformat": 4,
 "nbformat_minor": 4
}
